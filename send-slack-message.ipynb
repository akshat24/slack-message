{
 "cells": [
  {
   "cell_type": "markdown",
   "metadata": {},
   "source": [
    "In this notebook, I have implemented a simple trick to allow you to send Slack messages directly from the Jupyter Notebook.\n",
    "There are libraries which do the same however, this trick does not require installation of any additional libraries!\n",
    "\n",
    "The only requirement is to have `webhooks` activated for your Slack workspace."
   ]
  },
  {
   "cell_type": "markdown",
   "metadata": {},
   "source": [
    "#### Setting up a webhook on Slack - https://slack.com/help/articles/115005265063-incoming-webhooks-for-slack"
   ]
  },
  {
   "cell_type": "code",
   "execution_count": 1,
   "metadata": {},
   "outputs": [],
   "source": [
    "# importing needed libraries\n",
    "import json\n",
    "import requests"
   ]
  },
  {
   "cell_type": "markdown",
   "metadata": {},
   "source": [
    "Set your Slack webhook URL here:"
   ]
  },
  {
   "cell_type": "code",
   "execution_count": 2,
   "metadata": {},
   "outputs": [],
   "source": [
    "slack_webhook_url = \"enter your slack webhook url here\""
   ]
  },
  {
   "cell_type": "markdown",
   "metadata": {},
   "source": [
    "### Defining the function to send message on Slack"
   ]
  },
  {
   "cell_type": "markdown",
   "metadata": {},
   "source": [
    "    message_text: message to send to the channel of your choice\n",
    "    \n",
    "    returns: request with message text"
   ]
  },
  {
   "cell_type": "code",
   "execution_count": 3,
   "metadata": {},
   "outputs": [],
   "source": [
    "def send_slack_message(message_text:str, bot_emoji=\"\", bot_username=\"\", attachments_for_message=\"\"):\n",
    "    # creating message to send\n",
    "    message_payload = {\n",
    "        \"text\": message_text,\n",
    "        \"username\": bot_username,\n",
    "        \"icon_emoji\": bot_emoji,\n",
    "        \"attachments\":attachments_for_message\n",
    "    }\n",
    "    \n",
    "    # sending message as HTTP request\n",
    "    requests.post(slack_webhook_url, data=json.dumps(message_payload))"
   ]
  },
  {
   "cell_type": "code",
   "execution_count": 4,
   "metadata": {},
   "outputs": [],
   "source": [
    "message_ = \"This is a sample message from your friend - Smiley Bot\"\n",
    "username_ = \"smiley-bot\"\n",
    "emoji_ = \":smile:\""
   ]
  },
  {
   "cell_type": "markdown",
   "metadata": {},
   "source": [
    "### Sending a simple message"
   ]
  },
  {
   "cell_type": "code",
   "execution_count": 5,
   "metadata": {},
   "outputs": [],
   "source": [
    "send_slack_message(message_text=message_, bot_emoji=emoji_, bot_username=username_)"
   ]
  },
  {
   "cell_type": "markdown",
   "metadata": {},
   "source": [
    "### Messages can also contain images. \n",
    "\n",
    "A possible use-case for images is to send plots of important metrics. \n",
    "Here, I have sent a plot of train-test loss in case of a neural net. \n",
    "\n",
    "(The picture is for reference purposes only and is sourced from Google Images. I do not own the image!)"
   ]
  },
  {
   "cell_type": "markdown",
   "metadata": {},
   "source": [
    "You can add attachments to a message to make them more useful and meaningful. For Example - attaching a graph of train-test validation loss for a neural net you have been training!"
   ]
  },
  {
   "cell_type": "code",
   "execution_count": 6,
   "metadata": {},
   "outputs": [],
   "source": [
    "message_ = \"Neural Net Performance\""
   ]
  },
  {
   "cell_type": "code",
   "execution_count": 7,
   "metadata": {},
   "outputs": [],
   "source": [
    "url_image = \"https://3qeqpr26caki16dnhd19sv6by6v-wpengine.netdna-ssl.com/wp-content/uploads/2018/10/Line-Plots-of-Loss-on-Train-and-Test-Datasets-While-Training-Showing-an-Overfit-Model.png\"\n",
    "attachments = [\n",
    "    {\n",
    "        \"fallback\": \"Neural Net Performance\",\n",
    "        \"title\":\"Train Test Loss\",\n",
    "        \"image_url\": url_image\n",
    "    }\n",
    "]"
   ]
  },
  {
   "cell_type": "code",
   "execution_count": 8,
   "metadata": {},
   "outputs": [],
   "source": [
    "send_slack_message(message_text=message_, bot_emoji=emoji_, bot_username=username_,\n",
    "                  attachments_for_message = attachments)"
   ]
  },
  {
   "cell_type": "markdown",
   "metadata": {},
   "source": [
    "### Additional Resources:\n",
    "\n",
    "1. The official Slack docs are rich in description and examples. You can make you messages interactive, add buttons and links, etc. For detailed information - https://api.slack.com/docs/message-attachments\n",
    "\n",
    "2. There are excellent python packages which allow you to send slack messages. Some of them are <a href=\"https://github.com/os/slacker\">Slacker </a> and <a href=\"https://github.com/slackapi/python-slackclient\"> Slack Python SDK </a>."
   ]
  },
  {
   "cell_type": "markdown",
   "metadata": {},
   "source": [
    "Image Credits - Machine Learning Mastery\n",
    "\n",
    "Original Article from which image was taken - <a href=\"https://machinelearningmastery.com/how-to-stop-training-deep-neural-networks-at-the-right-time-using-early-stopping/\"> Link </a>"
   ]
  }
 ],
 "metadata": {
  "kernelspec": {
   "display_name": "Python 3",
   "language": "python",
   "name": "python3"
  },
  "language_info": {
   "codemirror_mode": {
    "name": "ipython",
    "version": 3
   },
   "file_extension": ".py",
   "mimetype": "text/x-python",
   "name": "python",
   "nbconvert_exporter": "python",
   "pygments_lexer": "ipython3",
   "version": "3.6.4"
  }
 },
 "nbformat": 4,
 "nbformat_minor": 2
}
